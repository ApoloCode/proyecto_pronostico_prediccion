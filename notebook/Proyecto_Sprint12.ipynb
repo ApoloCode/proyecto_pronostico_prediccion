{
 "cells": [
  {
   "cell_type": "markdown",
   "source": [
    "# Proyecto Pronóstico y predicción\n",
    "\n",
    "La cadena de gimnasios Model Fitness está desarrollando una estrategia de interacción con el cliente basada en datos analíticos.\n",
    "Uno de los problemas más comunes que enfrentan los gimnasios y otros servicios es la pérdida de clientes. ¿Cómo descubres si un cliente ya no está contigo? Puedes calcular la pérdida en función de las personas que se deshacen de sus cuentas o no renuevan sus contratos. Sin embargo, a veces no es obvio que un cliente se haya ido: puede que se vaya de puntillas.\n",
    "Los indicadores de pérdida varían de un campo a otro. Si un usuario compra en una tienda en línea con poca frecuencia pero con regularidad, no se puede decir que ha huido. Pero si durante dos semanas no ha abierto un canal que se actualiza a diario, es motivo de preocupación: es posible que tu seguidor se haya aburrido y te haya abandonado.\n",
    "En el caso de un gimnasio, tiene sentido decir que un cliente se ha ido si no viene durante un mes. Por supuesto, es posible que estén en Cancún y retomen sus visitas cuando regresen, pero ese no es un caso típico. Por lo general, si un cliente se une, viene varias veces y luego desaparece, es poco probable que regrese.\n",
    "Con el fin de combatir la cancelación, Model Fitness ha digitalizado varios de sus perfiles de clientes. Tu tarea consiste en analizarlos y elaborar una estrategia de retención de clientes.\n",
    "Tienes que:\n",
    "- Aprender a predecir la probabilidad de pérdida (para el próximo mes) para cada cliente\n",
    "- Elaborar retratos de usuarios típicos: selecciona los grupos más destacados y describe sus características principales\n",
    "- Analizar los factores que más impactan la pérdida\n",
    "- Sacar conclusiones básicas y elaborar recomendaciones para mejorar la atención al cliente:\n",
    "    - Identificar a los grupos objetivo\n",
    "    - Sugerir medidas para reducir la rotación\n",
    "    - Describir cualquier otro patrón que observes con respecto a la interacción con los clientes\n"
   ],
   "metadata": {
    "collapsed": false
   }
  },
  {
   "cell_type": "code",
   "execution_count": 1,
   "outputs": [],
   "source": [
    "# Librerias\n",
    "import pandas as pd\n",
    "import numpy as np\n",
    "import matplotlib.pyplot as plt\n",
    "import seaborn as sns\n",
    "import re"
   ],
   "metadata": {
    "collapsed": false,
    "ExecuteTime": {
     "end_time": "2023-06-27T18:02:25.585608Z",
     "start_time": "2023-06-27T18:02:25.571614200Z"
    }
   }
  },
  {
   "cell_type": "markdown",
   "source": [
    "## Tabla de contenidos <a id='back'></a>\n",
    "\n",
    "1. [Descarga de datos y preparación](#descarga_datos)\n",
    "2. [Análisis exploratorio de datos (EDA)](#eda)\n",
    "3. [Modelo para predecir la cancelación de usuarios](#modelo_cancelacion)\n",
    "4. [Clústeres de usuarios](#clusters)\n",
    "5. [Conclusiones y recomendaciones](#conclusiones_recomendaciones)"
   ],
   "metadata": {
    "collapsed": false
   }
  },
  {
   "cell_type": "markdown",
   "source": [
    "## Descarga de datos y preparación <a id=\"descarga_datos\"></a>\n",
    "\n",
    "Vamos a cargar los datos del dataset `gym_churn_us.csv`"
   ],
   "metadata": {
    "collapsed": false
   }
  },
  {
   "cell_type": "code",
   "execution_count": 4,
   "outputs": [
    {
     "data": {
      "text/plain": "   gender  Near_Location  Partner  Promo_friends  Phone  Contract_period  \\\n0       1              1        1              1      0                6   \n1       0              1        0              0      1               12   \n2       0              1        1              0      1                1   \n3       0              1        1              1      1               12   \n4       1              1        1              1      1                1   \n\n   Group_visits  Age  Avg_additional_charges_total  Month_to_end_contract  \\\n0             1   29                     14.227470                    5.0   \n1             1   31                    113.202938                   12.0   \n2             0   28                    129.448479                    1.0   \n3             1   33                     62.669863                   12.0   \n4             0   26                    198.362265                    1.0   \n\n   Lifetime  Avg_class_frequency_total  Avg_class_frequency_current_month  \\\n0         3                   0.020398                           0.000000   \n1         7                   1.922936                           1.910244   \n2         2                   1.859098                           1.736502   \n3         2                   3.205633                           3.357215   \n4         3                   1.113884                           1.120078   \n\n   Churn  \n0      0  \n1      0  \n2      0  \n3      0  \n4      0  ",
      "text/html": "<div>\n<style scoped>\n    .dataframe tbody tr th:only-of-type {\n        vertical-align: middle;\n    }\n\n    .dataframe tbody tr th {\n        vertical-align: top;\n    }\n\n    .dataframe thead th {\n        text-align: right;\n    }\n</style>\n<table border=\"1\" class=\"dataframe\">\n  <thead>\n    <tr style=\"text-align: right;\">\n      <th></th>\n      <th>gender</th>\n      <th>Near_Location</th>\n      <th>Partner</th>\n      <th>Promo_friends</th>\n      <th>Phone</th>\n      <th>Contract_period</th>\n      <th>Group_visits</th>\n      <th>Age</th>\n      <th>Avg_additional_charges_total</th>\n      <th>Month_to_end_contract</th>\n      <th>Lifetime</th>\n      <th>Avg_class_frequency_total</th>\n      <th>Avg_class_frequency_current_month</th>\n      <th>Churn</th>\n    </tr>\n  </thead>\n  <tbody>\n    <tr>\n      <th>0</th>\n      <td>1</td>\n      <td>1</td>\n      <td>1</td>\n      <td>1</td>\n      <td>0</td>\n      <td>6</td>\n      <td>1</td>\n      <td>29</td>\n      <td>14.227470</td>\n      <td>5.0</td>\n      <td>3</td>\n      <td>0.020398</td>\n      <td>0.000000</td>\n      <td>0</td>\n    </tr>\n    <tr>\n      <th>1</th>\n      <td>0</td>\n      <td>1</td>\n      <td>0</td>\n      <td>0</td>\n      <td>1</td>\n      <td>12</td>\n      <td>1</td>\n      <td>31</td>\n      <td>113.202938</td>\n      <td>12.0</td>\n      <td>7</td>\n      <td>1.922936</td>\n      <td>1.910244</td>\n      <td>0</td>\n    </tr>\n    <tr>\n      <th>2</th>\n      <td>0</td>\n      <td>1</td>\n      <td>1</td>\n      <td>0</td>\n      <td>1</td>\n      <td>1</td>\n      <td>0</td>\n      <td>28</td>\n      <td>129.448479</td>\n      <td>1.0</td>\n      <td>2</td>\n      <td>1.859098</td>\n      <td>1.736502</td>\n      <td>0</td>\n    </tr>\n    <tr>\n      <th>3</th>\n      <td>0</td>\n      <td>1</td>\n      <td>1</td>\n      <td>1</td>\n      <td>1</td>\n      <td>12</td>\n      <td>1</td>\n      <td>33</td>\n      <td>62.669863</td>\n      <td>12.0</td>\n      <td>2</td>\n      <td>3.205633</td>\n      <td>3.357215</td>\n      <td>0</td>\n    </tr>\n    <tr>\n      <th>4</th>\n      <td>1</td>\n      <td>1</td>\n      <td>1</td>\n      <td>1</td>\n      <td>1</td>\n      <td>1</td>\n      <td>0</td>\n      <td>26</td>\n      <td>198.362265</td>\n      <td>1.0</td>\n      <td>3</td>\n      <td>1.113884</td>\n      <td>1.120078</td>\n      <td>0</td>\n    </tr>\n  </tbody>\n</table>\n</div>"
     },
     "execution_count": 4,
     "metadata": {},
     "output_type": "execute_result"
    }
   ],
   "source": [
    "# Carga los archivos de datos\n",
    "data = pd.read_csv('../data/gym_churn_us.csv')\n",
    "\n",
    "# Verificamos que los datos se hayan cargado correctamente\n",
    "data.head()"
   ],
   "metadata": {
    "collapsed": false,
    "ExecuteTime": {
     "end_time": "2023-06-27T18:04:51.414728600Z",
     "start_time": "2023-06-27T18:04:51.346502900Z"
    }
   }
  },
  {
   "cell_type": "markdown",
   "source": [
    "Vamos a estudiar los datos que contiene nuestro dataset y verificar que los tipos de datos sean correctos para nuestro análisis"
   ],
   "metadata": {
    "collapsed": false
   }
  },
  {
   "cell_type": "code",
   "execution_count": 5,
   "outputs": [
    {
     "name": "stdout",
     "output_type": "stream",
     "text": [
      "<class 'pandas.core.frame.DataFrame'>\n",
      "RangeIndex: 4000 entries, 0 to 3999\n",
      "Data columns (total 14 columns):\n",
      " #   Column                             Non-Null Count  Dtype  \n",
      "---  ------                             --------------  -----  \n",
      " 0   gender                             4000 non-null   int64  \n",
      " 1   Near_Location                      4000 non-null   int64  \n",
      " 2   Partner                            4000 non-null   int64  \n",
      " 3   Promo_friends                      4000 non-null   int64  \n",
      " 4   Phone                              4000 non-null   int64  \n",
      " 5   Contract_period                    4000 non-null   int64  \n",
      " 6   Group_visits                       4000 non-null   int64  \n",
      " 7   Age                                4000 non-null   int64  \n",
      " 8   Avg_additional_charges_total       4000 non-null   float64\n",
      " 9   Month_to_end_contract              4000 non-null   float64\n",
      " 10  Lifetime                           4000 non-null   int64  \n",
      " 11  Avg_class_frequency_total          4000 non-null   float64\n",
      " 12  Avg_class_frequency_current_month  4000 non-null   float64\n",
      " 13  Churn                              4000 non-null   int64  \n",
      "dtypes: float64(4), int64(10)\n",
      "memory usage: 437.6 KB\n"
     ]
    }
   ],
   "source": [
    "# Imprimimos la información general/resumen sobre nuestro dataset\n",
    "data.info()"
   ],
   "metadata": {
    "collapsed": false,
    "ExecuteTime": {
     "end_time": "2023-06-27T18:07:42.813056400Z",
     "start_time": "2023-06-27T18:07:42.735041100Z"
    }
   }
  },
  {
   "cell_type": "markdown",
   "source": [
    "Nuestro dataset `data` que son los datos sobre la cancelación de un mes en concreto e información del mes que lo precedía de Model Fitness, contiene los siguientes datos:\n",
    "\n",
    "- `Churn`: la cancelación para el mes en cuestión\n",
    "- Campos de dataset actuales:\n",
    "    - `gender`: género del cliente\n",
    "    - `Near_Location`: si el usuario vive o trabaja en el vecindario donde se encuentra el gimnasio\n",
    "    - `Partner`: si el usuario es un trabajador de una compañía asociada (el gimnasio tiene empresas asociadas cuyos empleados obtienen descuentos; en esos casos el gimnasio almacena información sobre los empleadores de los clientes)\n",
    "    - `Promo_friends`: si el usuario originalmente se inscribió mediante una oferta \"trae a un amigo\" (se utilizó el código promocional de un amigo cuando pagaron el primer abono)\n",
    "    - `Phone`: si el usuario aportó el número de teléfono\n",
    "    - `Age`: edad del cliente\n",
    "    - `Lifetime`: el tiempo (en meses) desde que el usuario llegó por primera vez al gimnasio\n",
    "- Datos del registro de visitas y compras y datos sobre el estado actual de la membresía\n",
    "    - `Contract_period`: periodo del contrato (1 mes, 3 meses, 6 meses o 1 año)\n",
    "    - `Month_to_end_contract`: los meses que faltan hasta que expire el contrato\n",
    "    - `Group_visits`: si el usuario participa en sesiones grupales\n",
    "    - `Avg_class_frequency_total`: frecuencia media de visitas por semana a lo largo de la vida del cliente\n",
    "    - `Avg_class_frequency_current_month`: frecuencia media de visitas por semana durante el mes en curso\n",
    "    - `Avg_additional_charges_total`: cantidad total de dinero gastado en otros servicios del gimnasio: cafetería, productos deportivos, cosméticos, masajes, etc."
   ],
   "metadata": {
    "collapsed": false
   }
  },
  {
   "cell_type": "code",
   "execution_count": 6,
   "outputs": [
    {
     "name": "stdout",
     "output_type": "stream",
     "text": [
      "Datos duplicados en el dataset: 0\n"
     ]
    }
   ],
   "source": [
    "# Verificamos que no haya datos duplicados en el dataset\n",
    "print('Datos duplicados en el dataset:', data.duplicated().sum())"
   ],
   "metadata": {
    "collapsed": false,
    "ExecuteTime": {
     "end_time": "2023-06-27T18:16:06.284554400Z",
     "start_time": "2023-06-27T18:16:06.205143300Z"
    }
   }
  },
  {
   "cell_type": "code",
   "execution_count": 7,
   "outputs": [
    {
     "data": {
      "text/plain": "               Age     Lifetime  Contract_period  Month_to_end_contract  \\\ncount  4000.000000  4000.000000      4000.000000            4000.000000   \nmean     29.184250     3.724750         4.681250               4.322750   \nstd       3.258367     3.749267         4.549706               4.191297   \nmin      18.000000     0.000000         1.000000               1.000000   \n25%      27.000000     1.000000         1.000000               1.000000   \n50%      29.000000     3.000000         1.000000               1.000000   \n75%      31.000000     5.000000         6.000000               6.000000   \nmax      41.000000    31.000000        12.000000              12.000000   \n\n       Avg_class_frequency_current_month  Avg_class_frequency_total  \\\ncount                        4000.000000                4000.000000   \nmean                            1.767052                   1.879020   \nstd                             1.052906                   0.972245   \nmin                             0.000000                   0.000000   \n25%                             0.963003                   1.180875   \n50%                             1.719574                   1.832768   \n75%                             2.510336                   2.536078   \nmax                             6.146783                   6.023668   \n\n       Avg_additional_charges_total  \ncount                   4000.000000  \nmean                     146.943728  \nstd                       96.355602  \nmin                        0.148205  \n25%                       68.868830  \n50%                      136.220159  \n75%                      210.949625  \nmax                      552.590740  ",
      "text/html": "<div>\n<style scoped>\n    .dataframe tbody tr th:only-of-type {\n        vertical-align: middle;\n    }\n\n    .dataframe tbody tr th {\n        vertical-align: top;\n    }\n\n    .dataframe thead th {\n        text-align: right;\n    }\n</style>\n<table border=\"1\" class=\"dataframe\">\n  <thead>\n    <tr style=\"text-align: right;\">\n      <th></th>\n      <th>Age</th>\n      <th>Lifetime</th>\n      <th>Contract_period</th>\n      <th>Month_to_end_contract</th>\n      <th>Avg_class_frequency_current_month</th>\n      <th>Avg_class_frequency_total</th>\n      <th>Avg_additional_charges_total</th>\n    </tr>\n  </thead>\n  <tbody>\n    <tr>\n      <th>count</th>\n      <td>4000.000000</td>\n      <td>4000.000000</td>\n      <td>4000.000000</td>\n      <td>4000.000000</td>\n      <td>4000.000000</td>\n      <td>4000.000000</td>\n      <td>4000.000000</td>\n    </tr>\n    <tr>\n      <th>mean</th>\n      <td>29.184250</td>\n      <td>3.724750</td>\n      <td>4.681250</td>\n      <td>4.322750</td>\n      <td>1.767052</td>\n      <td>1.879020</td>\n      <td>146.943728</td>\n    </tr>\n    <tr>\n      <th>std</th>\n      <td>3.258367</td>\n      <td>3.749267</td>\n      <td>4.549706</td>\n      <td>4.191297</td>\n      <td>1.052906</td>\n      <td>0.972245</td>\n      <td>96.355602</td>\n    </tr>\n    <tr>\n      <th>min</th>\n      <td>18.000000</td>\n      <td>0.000000</td>\n      <td>1.000000</td>\n      <td>1.000000</td>\n      <td>0.000000</td>\n      <td>0.000000</td>\n      <td>0.148205</td>\n    </tr>\n    <tr>\n      <th>25%</th>\n      <td>27.000000</td>\n      <td>1.000000</td>\n      <td>1.000000</td>\n      <td>1.000000</td>\n      <td>0.963003</td>\n      <td>1.180875</td>\n      <td>68.868830</td>\n    </tr>\n    <tr>\n      <th>50%</th>\n      <td>29.000000</td>\n      <td>3.000000</td>\n      <td>1.000000</td>\n      <td>1.000000</td>\n      <td>1.719574</td>\n      <td>1.832768</td>\n      <td>136.220159</td>\n    </tr>\n    <tr>\n      <th>75%</th>\n      <td>31.000000</td>\n      <td>5.000000</td>\n      <td>6.000000</td>\n      <td>6.000000</td>\n      <td>2.510336</td>\n      <td>2.536078</td>\n      <td>210.949625</td>\n    </tr>\n    <tr>\n      <th>max</th>\n      <td>41.000000</td>\n      <td>31.000000</td>\n      <td>12.000000</td>\n      <td>12.000000</td>\n      <td>6.146783</td>\n      <td>6.023668</td>\n      <td>552.590740</td>\n    </tr>\n  </tbody>\n</table>\n</div>"
     },
     "execution_count": 7,
     "metadata": {},
     "output_type": "execute_result"
    }
   ],
   "source": [
    "# Se imprime una descripción de los datos numericos\n",
    "data[['Age', 'Lifetime', 'Contract_period', 'Month_to_end_contract', 'Avg_class_frequency_current_month', 'Avg_class_frequency_total', 'Avg_additional_charges_total']].describe()"
   ],
   "metadata": {
    "collapsed": false,
    "ExecuteTime": {
     "end_time": "2023-06-27T18:18:15.940788700Z",
     "start_time": "2023-06-27T18:18:15.891807Z"
    }
   }
  },
  {
   "cell_type": "markdown",
   "source": [
    "#### Conclusiones del dataset\n",
    "\n",
    "Al ver la muestra y resumen del dataset, no encontramos duplicados ni ausentes. Sin embargo es necesario ajustar los nombres de las columnas al estilo snake_case para facilitar el uso y llamado en procesos posteriores, tambien es necesario ajustar las columnas con opciones 1 y 0 a `boolean` para optimizar su uso. Por último, gracias a la descripción de los datos númericos vemos que la mayoria de las columnas no presentan datos outliers, las unicas a tener cierta precaución serian `contract_period`, `month_to_end_contract` y `avg_additional_charges_total` ya que sus medias tienen diferencias un poco significativas con sus medianas."
   ],
   "metadata": {
    "collapsed": false
   }
  },
  {
   "cell_type": "markdown",
   "source": [
    "### Corregir datos"
   ],
   "metadata": {
    "collapsed": false
   }
  },
  {
   "cell_type": "code",
   "execution_count": null,
   "outputs": [],
   "source": [
    "# Cambiar los nombres de las columnas\n",
    "data.rename(columns={\"Near_Location\": \"near_location\", \"Partner\": \"partner\", \"Promo_friends\": \"promo_friends\"}, inplace=True)\n",
    "# Cambiar el tipo de dato de chain de object a bool\n",
    "data_rest['chain'] = data_rest['chain'].astype('bool')\n",
    "data_rest.info()"
   ],
   "metadata": {
    "collapsed": false
   }
  }
 ],
 "metadata": {
  "kernelspec": {
   "display_name": "Python 3",
   "language": "python",
   "name": "python3"
  },
  "language_info": {
   "codemirror_mode": {
    "name": "ipython",
    "version": 2
   },
   "file_extension": ".py",
   "mimetype": "text/x-python",
   "name": "python",
   "nbconvert_exporter": "python",
   "pygments_lexer": "ipython2",
   "version": "2.7.6"
  }
 },
 "nbformat": 4,
 "nbformat_minor": 0
}
